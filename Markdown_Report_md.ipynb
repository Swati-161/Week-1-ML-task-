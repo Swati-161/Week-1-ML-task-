{
  "nbformat": 4,
  "nbformat_minor": 0,
  "metadata": {
    "colab": {
      "provenance": [],
      "authorship_tag": "ABX9TyPTLafK1hdrkmI8+EcFxQx9",
      "include_colab_link": true
    },
    "kernelspec": {
      "name": "python3",
      "display_name": "Python 3"
    },
    "language_info": {
      "name": "python"
    }
  },
  "cells": [
    {
      "cell_type": "markdown",
      "metadata": {
        "id": "view-in-github",
        "colab_type": "text"
      },
      "source": [
        "<a href=\"https://colab.research.google.com/github/Swati-161/Week-1-ML-task-/blob/main/Markdown_Report_md.ipynb\" target=\"_parent\"><img src=\"https://colab.research.google.com/assets/colab-badge.svg\" alt=\"Open In Colab\"/></a>"
      ]
    },
    {
      "cell_type": "code",
      "execution_count": null,
      "metadata": {
        "id": "AGeiKYgxmEBW"
      },
      "outputs": [],
      "source": []
    },
    {
      "cell_type": "markdown",
      "source": [
        "\n",
        "\n",
        "```\n",
        "# Credit Card Fraud Detection - Markdown Report\n",
        "\n",
        "## Approach\n",
        "\n",
        "1. **Data Preprocessing**:\n",
        "   - Handled missing values by filling them with the median.\n",
        "   - Removed duplicates to ensure data integrity.\n",
        "   - Applied **log transformation** to the `Amount` feature to handle outliers.\n",
        "   - Scaled features like `Log_Amount` and `Time` using **StandardScaler**.\n",
        "   - Applied **SMOTE** to balance the class distribution between fraudulent and non-fraudulent transactions.\n",
        "\n",
        "2. **Feature Engineering**:\n",
        "   - Created new features like `Log_Amount` and `Log_Amount_Time_interaction` to provide better insights.\n",
        "   - Calculated VIF to address multicollinearity.\n",
        "\n",
        "3. **Model Training**:\n",
        "   - Used **Logistic Regression** due to its simplicity for binary classification problems.\n",
        "   - Trained the model on the resampled dataset (after SMOTE).\n",
        "\n",
        "## Challenges\n",
        "\n",
        "Several challenges were encountered during the course of the project:\n",
        "\n",
        "1. **Class Imbalance**:\n",
        "   - The dataset had a highly imbalanced distribution between fraudulent and non-fraudulent transactions. This could lead to poor performance of the model, as it may bias predictions toward the majority class.\n",
        "   \n",
        "2. **Feature Scaling**:\n",
        "   - Scaling features like `Amount` and `Time` was essential to ensure that all features contribute equally to the model. Otherwise, the model could give more weight to higher-value features, which would be detrimental.\n",
        "   \n",
        "3. **Model Convergence Warning**:\n",
        "   - The Logistic Regression model initially faced convergence issues during training due to the large number of iterations required for the solver to find an optimal solution.\n",
        "   \n",
        "## Results\n",
        "\n",
        "The Logistic Regression model performed well, achieving the following metrics:\n",
        "\n",
        "- **Accuracy**: 98%\n",
        "- **Precision (Fraud Class)**: 99%\n",
        "- **Recall (Fraud Class)**: 97%\n",
        "- **F1-score**: 98%\n",
        "\n",
        "```\n",
        "\n"
      ],
      "metadata": {
        "id": "r27nTmI0mFTH"
      }
    }
  ]
}